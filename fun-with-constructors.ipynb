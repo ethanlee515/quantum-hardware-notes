{
 "cells": [
  {
   "cell_type": "markdown",
   "id": "84bb4fb3-155a-429c-995a-3b803c929c82",
   "metadata": {},
   "source": [
    "Invoking (Java-level) constructors manually can be done in principle, but is annoyingly brittle. Here's a working version."
   ]
  },
  {
   "cell_type": "code",
   "execution_count": 1,
   "id": "6174fd7e-da6c-4a46-9717-4a48b0d99bcd",
   "metadata": {},
   "outputs": [
    {
     "name": "stdout",
     "output_type": "stream",
     "text": [
      "First: test\n",
      "Second: Hello world!\n"
     ]
    },
    {
     "data": {
      "text/plain": [
       "defined \u001b[32mclass\u001b[39m \u001b[36mBase\u001b[39m\n",
       "defined \u001b[32mclass\u001b[39m \u001b[36mFirstDerived\u001b[39m\n",
       "defined \u001b[32mclass\u001b[39m \u001b[36mSecondDerived\u001b[39m\n",
       "defined \u001b[32mfunction\u001b[39m \u001b[36mconstruct_and_use\u001b[39m"
      ]
     },
     "execution_count": 1,
     "metadata": {},
     "output_type": "execute_result"
    }
   ],
   "source": [
    "abstract class Base {\n",
    "  def f()\n",
    "}\n",
    "\n",
    "class FirstDerived(val message: String) extends Base {\n",
    "  override def f() = {\n",
    "    println(\"First: \" + message)\n",
    "  }\n",
    "}\n",
    "\n",
    "class SecondDerived(val message: String) extends Base {\n",
    "  override def f() = {\n",
    "    println(\"Second: \" + message)\n",
    "  }\n",
    "}\n",
    "\n",
    "def construct_and_use(\n",
    "    T : Class[_ <: Base] = classOf[FirstDerived],\n",
    "    m : String = \"test\") = {\n",
    "  val ctor = T.getConstructor(getClass, classOf[String])\n",
    "  val inst : Base = ctor.newInstance(this, m)\n",
    "  inst.f()\n",
    "}\n",
    "\n",
    "construct_and_use()\n",
    "construct_and_use(classOf[SecondDerived], \"Hello world!\")"
   ]
  },
  {
   "cell_type": "markdown",
   "id": "0c7ea4c8-188d-407f-8cbc-bdcb727e8f05",
   "metadata": {},
   "source": [
    "Neat, right? Now, let's get another handle to a constructor and see what happens."
   ]
  },
  {
   "cell_type": "code",
   "execution_count": 2,
   "id": "cabd1177-fcbf-43b4-ab9f-5af75cdd965d",
   "metadata": {},
   "outputs": [
    {
     "ename": "",
     "evalue": "",
     "output_type": "error",
     "traceback": [
      "\u001b[31mjava.lang.NoSuchMethodException: ammonite.$sess.cmd0$Helper$FirstDerived.<init>(ammonite.$sess.cmd1$Helper, java.lang.String)\u001b[39m\n  java.lang.Class.getConstructor0(\u001b[32mClass.java\u001b[39m:\u001b[32m3082\u001b[39m)\n  java.lang.Class.getConstructor(\u001b[32mClass.java\u001b[39m:\u001b[32m1825\u001b[39m)\n  ammonite.$sess.cmd1$Helper.<init>(\u001b[32mcmd1.sc\u001b[39m:\u001b[32m2\u001b[39m)\n  ammonite.$sess.cmd1$.<init>(\u001b[32mcmd1.sc\u001b[39m:\u001b[32m7\u001b[39m)\n  ammonite.$sess.cmd1$.<clinit>(\u001b[32mcmd1.sc\u001b[39m:\u001b[32m-1\u001b[39m)"
     ]
    }
   ],
   "source": [
    "val T = classOf[FirstDerived]\n",
    "val ctor2 = T.getConstructor(getClass, classOf[String])"
   ]
  },
  {
   "cell_type": "markdown",
   "id": "bd29a009-7ed6-46ce-8fd7-be40e8f47f7f",
   "metadata": {},
   "source": [
    "Wait what? Isn't this the same code as above? Well, here's the problem. Jupyter seems to be interpreting Scala classes as *nested Java classes*. This is troublesome because [Java inner-class constructors](https://docs.oracle.com/javase/8/docs/api/java/lang/reflect/Constructor.html#newInstance-java.lang.Object...-) must take their enclosing instance as the first parameter, but different code blocks have incompatible outer classes:"
   ]
  },
  {
   "cell_type": "code",
   "execution_count": 3,
   "id": "157112fc-4308-443c-a6ea-4c811cdbc2bd",
   "metadata": {},
   "outputs": [
    {
     "name": "stdout",
     "output_type": "stream",
     "text": [
      "required type: class ammonite.$sess.cmd0$Helper\n",
      "current type: class ammonite.$sess.cmd2$Helper\n"
     ]
    }
   ],
   "source": [
    "println(\"required type: \" + classOf[FirstDerived].getConstructors()(0).getParameterTypes()(0))\n",
    "println(\"current type: \" + getClass)"
   ]
  },
  {
   "cell_type": "markdown",
   "id": "3ad0117e-d712-4d8e-9479-06b52b917355",
   "metadata": {},
   "source": [
    "What about the CLI then? Well, this code works on `scala main.sc`, but breaks on `scala < main.sc`. In the REPL, classes are *not* nested, so the Java constructors lose their first argument.\n",
    "\n",
    "Well, after this entire story, you might ask if Scala's own [reflection system](https://docs.scala-lang.org/overviews/reflection/environment-universes-mirrors.html#types-of-mirrors-their-use-cases--examples) is any better...\n",
    "\n",
    "> A ClassMirror is used for creating invoker mirrors for constructors.\n",
    "\n",
    "This sounds promising, no?"
   ]
  },
  {
   "cell_type": "code",
   "execution_count": 4,
   "id": "e19e0dff-f65f-438b-87cf-62dd9fae338d",
   "metadata": {},
   "outputs": [
    {
     "ename": "",
     "evalue": "",
     "output_type": "error",
     "traceback": [
      "\u001b[31mjava.lang.NullPointerException\u001b[39m\n  almond.ReplApiImpl.printSpecial(\u001b[32mReplApiImpl.scala\u001b[39m:\u001b[32m50\u001b[39m)\n  almond.JupyterApiImpl.printOnChange(\u001b[32mJupyterApiImpl.scala\u001b[39m:\u001b[32m35\u001b[39m)\n  almond.api.FullJupyterApi$Internal$.printOnChange(\u001b[32mFullJupyterApi.scala\u001b[39m:\u001b[32m27\u001b[39m)"
     ]
    }
   ],
   "source": [
    "val ru = scala.reflect.runtime.universe\n",
    "val m = ru.runtimeMirror(getClass.getClassLoader)"
   ]
  },
  {
   "cell_type": "markdown",
   "id": "197752e3-495f-480c-a232-3816e5841b18",
   "metadata": {},
   "source": [
    "Maybe not on Jupyter then. I can see if I have any better luck with the CLI next time."
   ]
  }
 ],
 "metadata": {
  "kernelspec": {
   "display_name": "Scala",
   "language": "scala",
   "name": "scala"
  },
  "language_info": {
   "codemirror_mode": "text/x-scala",
   "file_extension": ".scala",
   "mimetype": "text/x-scala",
   "name": "scala",
   "nbconvert_exporter": "script",
   "version": "2.12.10"
  }
 },
 "nbformat": 4,
 "nbformat_minor": 5
}
